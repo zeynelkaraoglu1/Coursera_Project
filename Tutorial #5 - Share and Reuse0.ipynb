{
 "cells": [
  {
   "cell_type": "markdown",
   "metadata": {},
   "source": [
    "<div style=\"color: orange; font-size: 1.25em; border: 3px orange solid; padding: 1em;\">This tutorial is not currently working. Please skip to the next tutorial. We're working hard to fix it. 🎃</div>\n",
    "\n",
    "<img src=\"https://ibm.box.com/shared/static/n80wj9idjioid3io1c0f4k8ch7y4kx7q.png\" alt=\"Keep calm and move to the next tutorial\">"
   ]
  },
  {
   "cell_type": "markdown",
   "metadata": {},
   "source": [
    "# Tutorial #5 - Share and Reuse\n",
    "\n",
    "\n",
    "\n",
    "\n",
    "Welcome to Cognitive Class Labs. This notebook is the **fifth** in a series of \"getting started\" tutorials that is designed to introduce some basic concepts and help get you familiar with using the workbench.\n",
    "\n",
    "In this notebook we introduce you to some workbench features designed to help you share and reuse notebooks.  Specifically, this tutorial covers:\n",
    "\n",
    "1. Share workbench files using share links\n",
    "    * Share a file\n",
    "    * Copy a shared file\n",
    "    * Unshare a file\n",
    "1. Download workbench files\n",
    "    * Download a single file\n",
    "    * Download files by tag\n",
    "    * Download all files in your workbench\n",
    "    * Download notebook as...\n",
    "1. Importable notebooks\n",
    "    * Create an importable notebook\n",
    "    * Import a notebook\n",
    "    * Call notebook functions\n",
    "    * Inject notebook recipes\n",
    "\n",
    "## Prerequisites\n",
    "This notebook assumes that you have completed the previous tutorials in the getting started series.  Though not required, it is recommended that you download these tutorial notebooks from the [Welcome](/pages/welcome) page and complete them before proceeding.\n",
    "\n",
    "## Share Workbench Files Using Share Links\n",
    "You can share a file in your Cognitive Class Labs environment by creating a *share link* to the file.  A share link is a URL that you can share with other Cognitive Class Labs users to allow them to download the file directly from your workbench to theirs.  \n",
    "\n",
    "<div class=\"alert alert-block alert-warning\" style=\"margin-top: 20px\">**Note:** At this time, share links only work within Cognitive Class Labs.  Users cannot download your shared files from the public Internet.\n",
    "</div>\n",
    "\n",
    "### Share a File\n",
    "To share a file in your workbench:\n",
    "\n",
    "1. Expand the file details section below the file name and click the **Share** link.  Cognitive Class Labs will display a link icon next to the file name to indicate that the file has a share link. It will also add new links to **Unshare** and **Show** the share link itself.\n",
    "1. Click the **Show Link** link. The share link's URL will now be selectable and able to be copied to your clipboard.\n",
    "1. Send the share link to people you want to be able to access the file.\n",
    "\n",
    "### Copy a Shared File\n",
    "If an Cognitive Class Labs user provides you with a share link, you can use the link to copy the shared file from that user's workbench directly to your own workbench.\n",
    "\n",
    "1. Paste the share link into the search box in the upper right of your Cognitive Class Labs and press Enter.\n",
    "1. Your Cognitive Class Labs will attempt to download the file to your workbench.\n",
    "1. On success, the file will show up in your workbench.\n",
    "\n",
    "<div class=\"alert alert-block alert-info\" style=\"margin-top: 20px\">**Note:** Attempting to copy a file using a share link may fail if the share link is stale.  This can happen if the file's owner has unshared or removed the file.\n",
    "</div>\n",
    "\n",
    "### Unshare a File\n",
    "To stop sharing a file in your workbench:\n",
    "\n",
    "1. Expand the file details section below the file name and click the \"Unshare\" link. \n",
    "\n",
    "<div class=\"alert alert-block alert-info\" style=\"margin-top: 20px\">**Note:** Cognitive Class Labs users will receive an error if they attempt to use a share link to a file that has been unshared or deleted.\n",
    "</div>\n",
    "\n",
    "## Download Workbench Files\n",
    "In **Tutorial #1 - Get Data**, you learned how to upload and import files into your workbench environment.  Cognitive Class Labs also allows you to download files from your workbench to your local machine.  This gives you the freedom to share the files however and with whomever you choose.  \n",
    "\n",
    "You can download any or all files in compressed archive format.  You can also download IPython notebooks in select file formats.\n",
    "\n",
    "### Download Single File\n",
    "To download an individual file, expand the file's detail section by clicking the **>** icon located  to the left of the file name in a sidebar panel.  Click the \"Download\" link in this section.\n",
    "\n",
    "### Download Multiple Files\n",
    "You can download multiple files in a single compressed archive file from a sidebar panel.  Once you create a sidebar panel (see **Tutorial #3 - Organize** for instructions on how to do this), click the dropdown menu icon next to the panel title and select \"Download All\" from the dropdown menu.\n",
    "\n",
    "### Download All Notebooks\n",
    "You can download all IPython notebooks in a single compressed archive file from the *My Workbench* dropdown menu in the top navigation bar.  Select *My Workbench > Download All Notebooks*.\n",
    "\n",
    "### Download Everything\n",
    "You can download the entire contents of your workbench directory in a single compressed archive file from the *My Workbench* dropdown menu in the top navigation bar.  Select *My Workbench > Download Everything*.\n",
    "\n",
    "### Download Notebook as...\n",
    "The IPython Notebook *File* menu supports options for downloading the current notebook after converting them to the selected format, including the IPython Notebook format (\\*.ipynb), Python script (\\*.py), and HTML. \n",
    "\n",
    "## Importable Notebooks\n",
    "In previous tutorials, we loaded the winter olympic medals data set, and either aggregated or filtered the data to answer specific questions.  For example, in the **Tutorial #2 - Explore and Visualize** notebook, we calculated and plotted the total medals that Norway had been awarded at each olympic games.  \n",
    "\n",
    "What if, in this notebook, we wanted to create the same plot, either for Norway or any other country.  Do you remember the code snippets we used to create that plot, or at least perform the data munging necessary to do so?  Once we find the right notebook and code cells, we can easily copy and paste the code into this notebook, but Cognitive Class Labs was created to help reduce this accidental complexity.\n",
    "\n",
    "What if, instead, we could write the code once in a notebook, and reuse it in other notebooks?  In this section, that is exactly what we will show you how to do.   We're going to create an importable notebook.\n",
    "\n",
    "<div class=\"alert alert-block alert-warning\">**Warning:** Importable notebooks is an experimental feature in Cognitive Class Labs.  The implementation is subject to change as the IPython Notebook file format changes.</div>\n",
    "\n",
    "### Create Importable Notebook\n",
    "We are going to create an importable notebook that provides convenience functions to load our olympic medals data sets and calculate medal counts.\n",
    "\n",
    "#### Step 1: Create a new notebook\n",
    "Click the *New Notebook* button in the upper right corner of the workbench navigation bar.\n",
    "\n",
    "Rename the notebook, \"olympic_medals.ipynb\".\n",
    "\n",
    "#### Step 2: Add `<api>` code cells\n",
    "The cell below contains modified code that we used in a prior notebook to count the number of medals that a country has been awarded in each olympic games.  The code cell begins with the line\n",
    "\n",
    "```\n",
    "# <api>\n",
    "```\n",
    "\n",
    "which indicates that the code within the cell should be exposed to notebooks that import it.\n",
    "\n",
    "Copy the contents of the cell below into a new **code** cell in the \"olympic_medals.ipynb\" notebook.\n"
   ]
  },
  {
   "cell_type": "raw",
   "metadata": {},
   "source": [
    "# <api>\n",
    "class Medals(object):\n",
    "    def __init__(self, df):\n",
    "        self.df = df\n",
    "\n",
    "    def by_year(self, country_code=None):\n",
    "        '''Return `pandas.Series` containing medal counts by year.'''\n",
    "        df = self.df\n",
    "        df = df[df.NOC == country_code]\\\n",
    "            if country_code in df.NOC.unique() else df\n",
    "        return df.groupby('Year').size()\n",
    "\n",
    "def load(filename=None):\n",
    "    '''Load medals data from file.'''\n",
    "    import pandas\n",
    "    filename = filename or '/resources/data/samples/olympic-medals/medals.csv' \n",
    "    # Load the medals data\n",
    "    df = pandas.read_csv(filename)\n",
    "    # Prune non-data rows and return result\n",
    "    return Medals(df.dropna())"
   ]
  },
  {
   "cell_type": "markdown",
   "metadata": {},
   "source": [
    "#### Step 3: Create help content\n",
    "It's a good idea to include some text (and even sample code) that lets consumers of the importable notebook know how to use it.  You can do this by annotating cells with a comment line like:\n",
    "\n",
    "```\n",
    "# <help>\n",
    "```\n",
    "\n",
    "to include help for the entire module or:\n",
    "\n",
    "```\n",
    "# <help:some_function_name>\n",
    "```\n",
    "\n",
    "to include help for a specific function.\n",
    "\n",
    "The import mechanism in Cognitive Class Labs automatically includes the code cell with this annotation, **plus** the markdown cell above it, in the help output.\n",
    "\n",
    "Copy the cell below into a new **markdown** cell in the \"olympic_medals.ipynb\" notebook, preferably at the top."
   ]
  },
  {
   "cell_type": "raw",
   "metadata": {},
   "source": [
    "# Olympic Medals\n",
    "This notebook provides convenience functions to load olympic medals data sets and calculate medal counts.\n",
    "\n",
    "See load.help() to get started."
   ]
  },
  {
   "cell_type": "markdown",
   "metadata": {},
   "source": [
    "Copy the cell below into a new **code** cell in the \"olympic_medals.ipynb\" notebook, below the markdown cell you just created."
   ]
  },
  {
   "cell_type": "raw",
   "metadata": {},
   "source": [
    "# <help>"
   ]
  },
  {
   "cell_type": "markdown",
   "metadata": {},
   "source": [
    "Copy the cell below into a new **code** cell \"olympic_medals.ipynb\" notebook, below the `# <api>` cell you created earlier."
   ]
  },
  {
   "cell_type": "raw",
   "metadata": {},
   "source": [
    "# <help:load>\n",
    "medals = load('medals.csv')\n",
    "medals.by_year()"
   ]
  },
  {
   "cell_type": "markdown",
   "metadata": {},
   "source": [
    "Save the \"olympic_medals.ipynb\" notebook."
   ]
  },
  {
   "cell_type": "markdown",
   "metadata": {},
   "source": [
    "### Import a Notebook\n",
    "Let's test the \"olympic_medals.ipynb\" importable notebook.\n",
    "\n",
    "First, you must import the **`kawb`** module.  This is where the magic happens."
   ]
  },
  {
   "cell_type": "code",
   "execution_count": null,
   "metadata": {
    "collapsed": false
   },
   "outputs": [],
   "source": [
    "import kawb"
   ]
  },
  {
   "cell_type": "markdown",
   "metadata": {},
   "source": [
    "Next, import the notebook.  The easiest way to do this is to select the *Insert Import* link located in the notebook's details section."
   ]
  },
  {
   "cell_type": "code",
   "execution_count": null,
   "metadata": {
    "collapsed": false
   },
   "outputs": [],
   "source": [
    "import mywb.olympic_medals as olympic_medals"
   ]
  },
  {
   "cell_type": "markdown",
   "metadata": {},
   "source": [
    "<div class=\"alert alert-block alert-warn\" style=\"margin-top: 20px\">**Note:** Notebooks are imported using Python's import mechanism.  As such, notebooks to be imported should honor Python naming conventions but are not bound to it. For example, notebook names should not contain special characters, spaces, etc.</div>\n",
    "\n",
    "### Call Notebook Functions\n",
    "\n",
    "Now we can view the notebook help by invoking its `help()` method."
   ]
  },
  {
   "cell_type": "code",
   "execution_count": null,
   "metadata": {
    "collapsed": false
   },
   "outputs": [],
   "source": [
    "olympic_medals.help()"
   ]
  },
  {
   "cell_type": "markdown",
   "metadata": {},
   "source": [
    "We can also view the `load()` function help like so."
   ]
  },
  {
   "cell_type": "code",
   "execution_count": null,
   "metadata": {
    "collapsed": false
   },
   "outputs": [],
   "source": [
    "olympic_medals.load.help()"
   ]
  },
  {
   "cell_type": "markdown",
   "metadata": {},
   "source": [
    "So, to load the medals data set and calculate the number of medals per olympic games for Norway, we simply do the following:"
   ]
  },
  {
   "cell_type": "code",
   "execution_count": null,
   "metadata": {
    "collapsed": false
   },
   "outputs": [],
   "source": [
    "medals = olympic_medals.load()\n",
    "nor_medals = medals.by_year('NOR')"
   ]
  },
  {
   "cell_type": "markdown",
   "metadata": {},
   "source": [
    "And the plot."
   ]
  },
  {
   "cell_type": "code",
   "execution_count": null,
   "metadata": {
    "collapsed": false
   },
   "outputs": [],
   "source": [
    "%matplotlib inline"
   ]
  },
  {
   "cell_type": "code",
   "execution_count": null,
   "metadata": {
    "collapsed": false
   },
   "outputs": [],
   "source": [
    "nor_medals.plot(kind='bar', figsize=(12,6))"
   ]
  },
  {
   "cell_type": "markdown",
   "metadata": {},
   "source": [
    "### Inject Notebook Recipes\n",
    "\n",
    "So far, we've created an importable notebook, defined a function, and attached help to both the notebook and a function. This pattern treats notebooks like typical code modules and makes them dependencies of the current notebook.\n",
    "\n",
    "The workbench supports a second pattern, one which treats notebooks like cookbooks of recipes. In this pattern, we import a notebook temporarily to grab its code snippets without any lasting dependency.\n",
    "\n",
    "Let's see the difference first-hand by creating a plot of the medals won over the years by Norway versus the United States starting from an existing multiline plot recipe.\n",
    "\n",
    "Return to the [Welcome](/pages/welcome) page and click *Import* under the **matplotlib Cookbook**. Take a moment to review the content of the cookbook. Notice that it uses `# <help: some_recipe>` annotations to name recipe cells.\n",
    "\n",
    "Now run the code below to import the cookbook."
   ]
  },
  {
   "cell_type": "code",
   "execution_count": null,
   "metadata": {
    "collapsed": false
   },
   "outputs": [],
   "source": [
    "import mywb.matplotlib_cookbook as matplotlib_cookbook"
   ]
  },
  {
   "cell_type": "markdown",
   "metadata": {},
   "source": [
    "In a new code cell in this notebook, type `matplotlib_cookbook.ax` and press *Tab* to get a listing of all the functions available in the notebook. Select the `matplotlib_cookbook.axes_title_legend` from the popup. Then call it like a function."
   ]
  },
  {
   "cell_type": "code",
   "execution_count": null,
   "metadata": {
    "collapsed": false
   },
   "outputs": [],
   "source": [
    "matplotlib_cookbook.axes_title_legend()"
   ]
  },
  {
   "cell_type": "markdown",
   "metadata": {},
   "source": [
    "Peruse the output. So far, it's no different than the help output we saw for our `olympic_medals` notebook. Now let's inject it into this notebook as new, runnable cells. Run the following cell to do so."
   ]
  },
  {
   "cell_type": "code",
   "execution_count": null,
   "metadata": {
    "collapsed": false
   },
   "outputs": [],
   "source": [
    "%inject matplotlib_cookbook.axes_title_legend()"
   ]
  },
  {
   "cell_type": "markdown",
   "metadata": {},
   "source": [
    "We've got the only recipe we need for this exercise from the cookbook. Go back and delete the matplotlib_cookbook import, the call to see the recipe help, and the `%inject` cell you just ran. They're no longer needed. When you're comfy with the description of the code, delete the markdown help you injected with the code recipe too.\n",
    "\n",
    "Now twiddle the recipe code above to create a plot showing the U.S. and Norway medal counts. Adjust the plot title, axis labels, and legend appropriately.\n",
    "\n",
    "The final recipe might look something like the following."
   ]
  },
  {
   "cell_type": "code",
   "execution_count": null,
   "metadata": {
    "collapsed": false
   },
   "outputs": [],
   "source": [
    "import matplotlib.pyplot as plt\n",
    "%matplotlib inline\n",
    "fig, ax = plt.subplots()\n",
    "\n",
    "y_nor = medals.by_year('NOR')\n",
    "y_usa = medals.by_year('USA')\n",
    "x = y_nor.index\n",
    "\n",
    "ax.plot(x, y_nor, label=\"NOR\")\n",
    "ax.plot(x, y_usa, label=\"USA\")\n",
    "ax.legend(loc=2) # upper left corner\n",
    "ax.set_xlabel('Year')\n",
    "ax.set_ylabel('Medals')\n",
    "ax.set_title('Medals by Year')"
   ]
  },
  {
   "cell_type": "markdown",
   "metadata": {},
   "source": [
    "Sometimes modifying an existing example can save time compared to coding it from the ground-up. In this situation, `%inject` and `# <help:recipes>` will shine.\n",
    "\n",
    "## Next: Present and Interact\n",
    "Our next tutorial topic will focus on how Cognitive Class Labs can help you create and interact with widgets on your notebooks. Visit the [Welcome](/pages/welcome) page to download **Tutorial #6 - Present and Interact**."
   ]
  },
  {
   "cell_type": "markdown",
   "metadata": {},
   "source": [
    "## Want to learn more?"
   ]
  },
  {
   "cell_type": "markdown",
   "metadata": {},
   "source": [
    "<a href=\"http://bigdatauniversity.com/courses/data-scientist-workbench-tutorial/?utm_source=tutorial5-share&utm_medium=dswb&utm_campaign=bdu\"><img src = \"https://ibm.box.com/shared/static/ni1of8b042gievv8a1f5iv8aqyruf8sk.png\"> </a>"
   ]
  },
  {
   "cell_type": "markdown",
   "metadata": {},
   "source": [
    "Created by: <a href=\"https://bigdatauniversity.com/?utm_source=bducreatedbylink&utm_medium=dswb&utm_campaign=bdu\">The Cognitive Class Team</a>"
   ]
  }
 ],
 "metadata": {
  "kernelspec": {
   "display_name": "Python 2",
   "language": "python",
   "name": "python2"
  },
  "language_info": {
   "codemirror_mode": {
    "name": "ipython",
    "version": 2
   },
   "file_extension": ".py",
   "mimetype": "text/x-python",
   "name": "python",
   "nbconvert_exporter": "python",
   "pygments_lexer": "ipython2",
   "version": "2.7.12"
  },
  "widgets": {
   "state": {},
   "version": "1.1.2"
  }
 },
 "nbformat": 4,
 "nbformat_minor": 0
}
