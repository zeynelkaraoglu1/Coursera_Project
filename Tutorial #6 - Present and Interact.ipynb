{
 "cells": [
  {
   "cell_type": "markdown",
   "metadata": {
    "render": false
   },
   "source": [
    "# Tutorial #6 - Present and Interact\n",
    "\n",
    "Welcome to Cognitive Class Labs. This notebook is the **sixth** in a series of \"getting started\" tutorials that is designed to introduce some basic concepts and help get you familiar with using the workbench.\n",
    "\n",
    "In this notebook we introduce you to some workbench features designed to help you present notebooks with interactive widgets as a dashboard. Specifically, this tutorial covers how to:\n",
    "\n",
    "1. Load data in memory using a `pandas` DataFrame\n",
    "1. Interactively explore data using a widget\n",
    "1. Present a widget in a dashboard\n",
    "\n",
    "## Motivation\n",
    "Notebooks provide a great way to communicate insights with your peers and decisions makers. However, there's a variety in the audience who consumes your notebooks. Part of the audience wants to see the entire code in the spirit of reproducible research. They are comfortable modifying code to explore data in slightly different ways. Others might only care about analysis results, considering implementation details as irrelevant. These users might be uncomfortable making code changes, but they would still like to interact with the data and its presentation.\n",
    "\n",
    "This tutorial addresses both requirements and shows how to:\n",
    "1. Enable users to interact with notebooks without changing code\n",
    "1. Hide implementation details\n",
    "\n",
    "Let's get started.\n",
    "\n",
    "## Pre-requisites\n",
    "Though not required, it is recommended that you download these tutorial notebooks from the [Welcome](/pages/welcome) page and complete them before proceeding.\n",
    "\n",
    "### Load Medals Data\n",
    "As demonstrated in **Tutorial #1 - Get Data**, we can load data by \n",
    "following steps:\n",
    "\n",
    "1. Download the olympic medal data in CSV format.  Click this [Box link](https://ibm.box.com/s/8u9yc1hj7ddvptablj312asm6sfgn5gw) to open the document in a new browser window. \n",
    "1. Save the CSV file to your computer by clicking on the Download button.\n",
    "1. Drag the CSV file from your desktop onto the workbench (Note that the CSV file appears under your **Recent Data** panel in the sidebar.)\n",
    "1. Click the arrow button (**>**) next to the CSV file you just uploaded.\n",
    "1. In the section that appears below the item, click \"Rename\"\n",
    "1. Change the name of the file to \"medals.csv\" and press Enter or click outside the name.\n",
    "1. Execute the code cell by clicking the (**&#9658;**) play button on the notebook toolbar, or by pressing Ctrl-Enter."
   ]
  },
  {
   "cell_type": "code",
   "execution_count": null,
   "metadata": {
    "collapsed": false
   },
   "outputs": [],
   "source": [
    "import pandas\n",
    "# Load the medals data.\n",
    "medals_df = pandas.read_csv('/resources/medals.csv')\n",
    "# Prune non-data rows\n",
    "medals_df = medals_df.dropna()"
   ]
  },
  {
   "cell_type": "markdown",
   "metadata": {
    "render": true
   },
   "source": [
    "## Interactively Explore Olympic Medals History\n"
   ]
  },
  {
   "cell_type": "markdown",
   "metadata": {},
   "source": [
    "In previous tutorials, you loaded the winter olympic medals data set, and explored the data to answer specific questions.  For example, in the **Tutorial #2 - Explore and Visualize** notebook, you calculated and plotted the total medals that the top 15 countries had been awarded throughout the history of the winter olympics.\n",
    "\n",
    "Apart from the total medals there are many other questions the data can answer, e.g.:\n",
    "* \"What country won the most medals in skating competitions?\"\n",
    "* \"What country won the most medals in speed skating competitions?\"\n",
    "* \"How many olympic gold medals did China win over time?\"\n",
    "\n",
    "Instead of writing code and plotting results for each of these questions separately you can use [Interactive Widgets](http://nbviewer.ipython.org/github/quantopian/ipython/blob/master/examples/Interactive%20Widgets/Index.ipynb) to dynamically plot results.\n",
    "\n",
    "In this section, you're going to create an [IPython interactive widget](http://nbviewer.ipython.org/github/quantopian/ipython/blob/master/examples/Interactive%20Widgets/Using%20Interact.ipynb) that displays medal counts by country, filtered by a sport-specific search term: \n",
    "\n",
    "1. Define a function that plots medal counts by country.\n",
    "1. Define a function that filters the medals data by a sport-specific search term, e.g. \"skating\", \"skiing\", or \"snowboarding\".\n",
    "1. Create a widget that invokes #1 and #2 to produce results interactively.\n",
    "\n",
    "### Plot Medal Counts by Country\n",
    "\n",
    "To remind yourself of the `medals_df` DataFrame content, view the column headers and a few rows:"
   ]
  },
  {
   "cell_type": "code",
   "execution_count": null,
   "metadata": {
    "collapsed": false
   },
   "outputs": [],
   "source": [
    "medals_df.head(5)"
   ]
  },
  {
   "cell_type": "markdown",
   "metadata": {},
   "source": [
    "Your're reusing previously written code to calculate and plot the number of medals won. For details review **Tutorial #2 - Explore and Visualize**, available from the [Welcome](/pages/welcome) page:"
   ]
  },
  {
   "cell_type": "code",
   "execution_count": null,
   "metadata": {
    "collapsed": false
   },
   "outputs": [],
   "source": [
    "# Tell the notebook server to render plots inline\n",
    "import matplotlib.pyplot as plt\n",
    "%matplotlib inline\n",
    "\n",
    "def medals_by_country(df):\n",
    "    '''\n",
    "    Computes medal counts by country.\n",
    "    '''\n",
    "    # group by country, medal color\n",
    "    medals_by_country = df.groupby(['NOC','Medal']).size()\n",
    "    medals_by_country_df = medals_by_country.unstack()\n",
    "    # replace missing counts with '0'\n",
    "    medals_by_country_df.fillna(0, inplace=True)\n",
    "    # sort descending by medal color\n",
    "    actual_medal_colors = []\n",
    "    for medal_color in ['Gold','Silver','Bronze']:\n",
    "        if medal_color in medals_by_country_df.columns:\n",
    "            actual_medal_colors.append(medal_color)\n",
    "    if len(medals_by_country_df):\n",
    "        medals_by_country_df.sort_values(actual_medal_colors, ascending=False, inplace=True)\n",
    "    return medals_by_country_df\n",
    "\n",
    "def plot_medals(df, n=15):\n",
    "    '''\n",
    "    Plots the medal counts for the top `n` countries.\n",
    "    '''\n",
    "    # set medal count for missing medal colors to 0\n",
    "    for medal_color in ['Gold','Silver','Bronze']:\n",
    "       if medal_color not in df.columns:\n",
    "           df.insert(1, medal_color, 0)\n",
    "    # draw plot\n",
    "    plot_colors = ['gold', 'silver', 'saddlebrown']\n",
    "    ax = df[['Gold','Silver','Bronze']][:n]\\\n",
    "        .plot(kind='bar', figsize=(12,5), color=plot_colors)\n",
    "    ax.set_xlabel(\"Country\")\n",
    "    ax.set_ylabel(\"Number of Medals\")\n",
    "    plt.show()"
   ]
  },
  {
   "cell_type": "markdown",
   "metadata": {},
   "source": [
    "Run the `plot_medals` function to test it."
   ]
  },
  {
   "cell_type": "code",
   "execution_count": null,
   "metadata": {
    "collapsed": false
   },
   "outputs": [],
   "source": [
    "plot_medals(medals_by_country(medals_df))"
   ]
  },
  {
   "cell_type": "markdown",
   "metadata": {},
   "source": [
    "This plot is similar to the one in **Tutorial #2 - Explore and Visualize**. It looks nice, but isn't interactive.\n",
    "\n",
    "### Filter Medals Data by a Sport-Specific Search Term\n",
    "\n",
    "Implement a function to filter the `medals_df` DataFrame:"
   ]
  },
  {
   "cell_type": "code",
   "execution_count": null,
   "metadata": {
    "collapsed": false
   },
   "outputs": [],
   "source": [
    "def filter_medals(search_term):\n",
    "    '''\n",
    "    Filters the medals_df DataFrame to only contain rows whose Sport or Discipline\n",
    "    columns contain the given search_term.\n",
    "    '''\n",
    "    return medals_df[medals_df.Sport.str.contains(search_term, case=False) \\\n",
    "                     | medals_df.Discipline.str.contains(search_term, case=False)]"
   ]
  },
  {
   "cell_type": "markdown",
   "metadata": {},
   "source": [
    "Next, you'll make use of widgets and use the `plot_medals` and `filter_medals` functions to create plots interactively.\n",
    "\n",
    "### Create a Widget\n",
    "\n",
    "There are different ways to create widgets:\n",
    "1. Create default widgets using [Interact](http://nbviewer.ipython.org/github/quantopian/ipython/blob/master/examples/Interactive%20Widgets/Using%20Interact.ipynb)\n",
    "1. [Configure widgets](http://nbviewer.ipython.org/github/quantopian/ipython/blob/master/examples/Interactive%20Widgets/Widget%20Styling.ipynb)\n",
    "1. [Build custom widgets](http://nbviewer.ipython.org/github/quantopian/ipython/blob/master/examples/Interactive%20Widgets/Custom%20Widget%20-%20Hello%20World.ipynb)\n",
    "\n",
    "You'll create a default widget using `interact`. Define a function `search_and_plot_medals` that filters the medal data and plots the result. Make the function interactive by adding the `@interact(search='')` [Python decorator](https://www.python.org/dev/peps/pep-0318/). You can find details about the `@interact` decorator in the [Interactive Widget documentation](http://nbviewer.ipython.org/github/quantopian/ipython/blob/master/examples/Interactive%20Widgets/Using%20Interact.ipynb). Note that simply adding this decorator with the empty string `search` parameter adds a text field called `search` to the output cell and creates an interactive widget that accepts text input.\n",
    "\n",
    "Run the cell below and try the interactive widget by typing \"skating\" or other terms into the search text field. The plot and the table below should update instantly:"
   ]
  },
  {
   "cell_type": "code",
   "execution_count": null,
   "metadata": {
    "collapsed": false
   },
   "outputs": [],
   "source": [
    "# import display to show DataFrame content\n",
    "from IPython.display import display\n",
    "# import the widgets interact function to automatically create interactive UI\n",
    "from ipywidgets import interact\n",
    "\n",
    "# decorate the search_and_plot_medals function using interact\n",
    "# to create text field UI for search term\n",
    "@interact(search='')\n",
    "def search_and_plot_medals(search):\n",
    "    '''\n",
    "    Display medals by country when given a search term.\n",
    "    '''\n",
    "    filtered_medals = filter_medals(search)\n",
    "    if len(filtered_medals) == 0:\n",
    "        print 'No hits'\n",
    "        return\n",
    "    \n",
    "    # show plot \n",
    "    plot_medals(medals_by_country(filtered_medals))\n",
    "    # output results\n",
    "    display(filtered_medals)"
   ]
  },
  {
   "cell_type": "markdown",
   "metadata": {},
   "source": [
    "Congratulations! You've created your first interactive widget that uses instant search to dynamically generate plots and result tables.\n",
    "\n",
    "The `filter_medals` function is used to search only the **Sport** and **Discipline** columns. What if you want to also search on the **NOC** column ([IOC country code](http://en.wikipedia.org/wiki/List_of_IOC_country_codes)) to view medals for a country? What if you made the widget even smarter by enabling search on a subset of columns you can choose dynamically?\n",
    "\n",
    "You can combine widgets and make them react to multiple types of inputs. For example, the following function allows filtering of the `medals_df` DataFrame by selecting a subset of fields to search. It does so by adding boolean parameters for `sport`, `discipline` and `noc` to the parameter list. The `@interact` decorator automatically converts these parameters into check boxes that are shown in the interactive widget."
   ]
  },
  {
   "cell_type": "code",
   "execution_count": null,
   "metadata": {
    "collapsed": false,
    "render": false
   },
   "outputs": [],
   "source": [
    "def filter_medals_in_columns(df, search_term, cols=None):\n",
    "    mask = [False] * len(df)\n",
    "    for col in cols:\n",
    "        mask |= df[col].str.contains(search_term, case=False)\n",
    "    return df[mask]\n",
    "\n",
    "def show_search_and_plot_widget(df):\n",
    "    @interact(search='')\n",
    "    def search_and_plot_medals(search, sport=True, discipline=True, noc=True):\n",
    "        cols = []\n",
    "        if sport: cols.append('Sport')\n",
    "        if discipline: cols.append('Discipline')\n",
    "        if noc: cols.append('NOC')\n",
    "\n",
    "        filtered = filter_medals_in_columns(df, search, cols)\n",
    "        if len(filtered) == 0:\n",
    "            print 'No hits'\n",
    "            return\n",
    "\n",
    "        # show plot \n",
    "        plot_medals(medals_by_country(filtered))\n",
    "        # output results\n",
    "        display(filtered)"
   ]
  },
  {
   "cell_type": "markdown",
   "metadata": {
    "render": true
   },
   "source": [
    "Explore the medal data and answer questions by entering queries into the search box, e.g.:\n",
    "* \"What country won the most medals in skating competitions?\"\n",
    "    * Search \"skating\"\n",
    "* \"What country won the most medals in speed skating competitions?\"\n",
    "    * Search \"speed\"\n",
    "* \"How many olympic gold medals did China win over time?\"\n",
    "    * Disable the search for \"sport\" and \"discipline\" by unchecking the check boxes, make sure \"noc\" ([IOC country code](http://en.wikipedia.org/wiki/List_of_IOC_country_codes)) remains checked\n",
    "    * Search \"chn\"\n",
    "\n",
    "Continue to explore the data on your own."
   ]
  },
  {
   "cell_type": "code",
   "execution_count": null,
   "metadata": {
    "collapsed": false,
    "render": true
   },
   "outputs": [],
   "source": [
    "show_search_and_plot_widget(medals_df)"
   ]
  },
  {
   "cell_type": "markdown",
   "metadata": {},
   "source": [
    "This interactive widget allows you to plot the number of medals for sport disciplines and countries."
   ]
  },
  {
   "cell_type": "markdown",
   "metadata": {},
   "source": [
    "## Present a Widget in a Dashboard\n",
    "\n",
    "Implementation details about how you compute your insights in a notebook are often not relevant to your audience. Cognitive Class Labs provides a mechanism to hide these implementation details through its **Dashboard Mode**.\n",
    "\n",
    "Cognitive Class Labs allows you to select a subset of cells that are relevant for your presentation, and hide all irrelevant cells by switching into **Dashboard Mode**:\n",
    "\n",
    "1. To select relevant cells, click the **Cell Toolbar** dropdown menu in the upper right of your notebook and select **Dashboard**. This adds a check box \"Show output in dashboard\" to every notebook cell.\n",
    "1. Check the check box \"Show output in dashboard\" for the cell above (\"This interactive ... and countries\").\n",
    "1. From the **View** menu select **Dashboard Mode**. Only selected cells will show.\n",
    "1. Switch the **View** back to **Notebook Mode** to see the entire notebook.\n",
    "\n",
    "In **Dashboard** mode you can continue to use interactive widgets, and it allows you to focus on the data that matters most.\n",
    "\n",
    "## Summary\n",
    "\n",
    "In this tutorial you created an interactive widget to plot data based on a search query using filters applied by check boxes. You can further explore and customize widgets by following more [Interactive Widgets tutorials](http://nbviewer.ipython.org/github/quantopian/ipython/blob/master/examples/Interactive%20Widgets/Index.ipynb)."
   ]
  },
  {
   "cell_type": "markdown",
   "metadata": {},
   "source": [
    "Created by: <a href=\"https://bigdatauniversity.com/?utm_source=bducreatedbylink&utm_medium=dswb&utm_campaign=bdu\">The Cognitive Class Team</a>"
   ]
  }
 ],
 "metadata": {
  "kernelspec": {
   "display_name": "Python 2",
   "language": "python",
   "name": "python2"
  },
  "language_info": {
   "codemirror_mode": {
    "name": "ipython",
    "version": 2
   },
   "file_extension": ".py",
   "mimetype": "text/x-python",
   "name": "python",
   "nbconvert_exporter": "python",
   "pygments_lexer": "ipython2",
   "version": "2.7.12"
  },
  "widgets": {
   "state": {},
   "version": "1.1.2"
  }
 },
 "nbformat": 4,
 "nbformat_minor": 0
}
